{
 "cells": [
  {
   "cell_type": "markdown",
   "metadata": {},
   "source": [
    "## Primeiros Passos Python\n",
    "\n",
    "**O que precisa para rodar os programas?**\n",
    "\n",
    "1) instalação local na máquina\n",
    "\n",
    "[site oficial] (https://www.python.org/downloads/)\n",
    "\n",
    "2) instalação Portátil\n",
    "\n",
    "Versão mantem todos os arquivos dentro de um só pasta, não precisando de interfaço com arquivos de sistema\n",
    "\n",
    "[winpyhton] (https://winpython.github.io/#portable)\n",
    "\n",
    "3) Editores Online\n",
    "\n",
    "[Google Colab] (https://colab.google/)\n",
    "\n",
    "Tem interface com o Google Drive e permite colaboração no mesmo arquivo e até interface com IA dentro no mesmo arquivo.\n",
    "\n",
    "[Repl.it] (https://replit.com/)\n",
    "\n",
    "IDE Online com free tier generoso, e eles tem ambientes não só de Python mas também de várias outras linguagens e frameworks\n",
    "\n",
    "[Codespaces] (https://github.com/codespaces)\n",
    "\n",
    "Ferramenta muito boa do Github, integra muito bem com o vscode e tem um tier free de 100h por mês."
   ]
  },
  {
   "cell_type": "markdown",
   "metadata": {},
   "source": [
    "# Variáveis e Tipos\n",
    "\n",
    "* Variáveis\n",
    "\n",
    "Fundação de todas as linguagens de programação, como guardamos e acessamos informação dentro de um script, Python tem os seguintes tipos nativamente:\n",
    "\n",
    "Strings: Texto\n",
    "\n",
    "Int: Numeros inteiros\n",
    "\n",
    "Float: Números Decimais\n",
    "\n",
    "Bool: Verdadeiro ou Falso"
   ]
  },
  {
   "cell_type": "code",
   "execution_count": 1,
   "metadata": {},
   "outputs": [
    {
     "name": "stdout",
     "output_type": "stream",
     "text": [
      "12\n"
     ]
    }
   ],
   "source": [
    "a = 'minha variável'\n",
    "b = 12\n",
    "c = 3.14\n",
    "d = True\n",
    "\n",
    "print(b)"
   ]
  },
  {
   "cell_type": "markdown",
   "metadata": {},
   "source": [
    "Os tipos padrão já vem funções que podemos executar nativamente (chamados de métodos)\n",
    "\n",
    "Exemplo posso transformar uma string em maiúsculo com o método .upper() ou dividir as palavras com o método .split()"
   ]
  },
  {
   "cell_type": "code",
   "execution_count": 2,
   "metadata": {},
   "outputs": [
    {
     "name": "stdout",
     "output_type": "stream",
     "text": [
      "MINHA VARIÁVEL\n",
      "['minha', 'variável']\n"
     ]
    }
   ],
   "source": [
    "print(a.upper())\n",
    "print(a.split())"
   ]
  },
  {
   "cell_type": "markdown",
   "metadata": {},
   "source": [
    "Operações com o tipos básicos"
   ]
  },
  {
   "cell_type": "code",
   "execution_count": 3,
   "metadata": {},
   "outputs": [
    {
     "data": {
      "text/plain": [
       "'minha variável é irada'"
      ]
     },
     "execution_count": 3,
     "metadata": {},
     "output_type": "execute_result"
    }
   ],
   "source": [
    "a + ' é irada'\n",
    "#b + 2,\n",
    "#b + c,\n",
    "#b == c"
   ]
  },
  {
   "cell_type": "markdown",
   "metadata": {},
   "source": [
    "# Principais Estruturas de Dados e como as usar\n",
    "\n",
    "* Lista\n",
    "\n",
    "definida por [], pode receber qualquer tipo de elemento, e conserva suas posições"
   ]
  },
  {
   "cell_type": "code",
   "execution_count": 4,
   "metadata": {},
   "outputs": [],
   "source": [
    "l = [1, 's', 3.14, True, False, 14]\n",
    "\n",
    "#l[1]\n",
    "#l[-1]\n",
    "#l.reverse()\n",
    "#1 in l\n",
    "#l\n",
    "#l * 2\n",
    "\n",
    "# ll = [x*2 for x in l]\n",
    "\n",
    "# ll"
   ]
  },
  {
   "cell_type": "markdown",
   "metadata": {},
   "source": [
    "* Tuple\n",
    "\n",
    "definido por (), guada a posição e é os elementos são inalteráveis depois de registrados"
   ]
  },
  {
   "cell_type": "code",
   "execution_count": 5,
   "metadata": {},
   "outputs": [
    {
     "data": {
      "text/plain": [
       "1"
      ]
     },
     "execution_count": 5,
     "metadata": {},
     "output_type": "execute_result"
    }
   ],
   "source": [
    "t = (1, 4)\n",
    "\n",
    "t[0]"
   ]
  },
  {
   "cell_type": "markdown",
   "metadata": {},
   "source": [
    "* Dicionário\n",
    "\n",
    "definido por {}, usa pares de chaves e valores, chave sempre tem que ser uma string e é muito útil para registro e acesso de elementos expecíficos em grande população.\n",
    "\n",
    "Parecido com JSON"
   ]
  },
  {
   "cell_type": "code",
   "execution_count": 6,
   "metadata": {},
   "outputs": [
    {
     "data": {
      "text/plain": [
       "35000"
      ]
     },
     "execution_count": 6,
     "metadata": {},
     "output_type": "execute_result"
    }
   ],
   "source": [
    "funcionario = {\n",
    "    'nome': 'Murilo',\n",
    "    'cargo': 'ETP',\n",
    "    'salário': 35000,\n",
    "    'hobbies': ['filmes', 'música', 'praia']\n",
    "}\n",
    "\n",
    "funcionario['salário']\n",
    "# funcionario.keys()\n",
    "#funcionario.items()\n",
    "#funcionario['hobbies'][1]"
   ]
  },
  {
   "cell_type": "markdown",
   "metadata": {},
   "source": [
    "# Funções\n",
    "\n",
    "Funções são modos de reusar o mesmo código várias vezes, são definidas usando a keyword def nome_da_função(): e pode ou não ter a keyword return no final"
   ]
  },
  {
   "cell_type": "code",
   "execution_count": 7,
   "metadata": {},
   "outputs": [],
   "source": [
    "def aumentar_dois(n):\n",
    "    return n + 2"
   ]
  },
  {
   "cell_type": "code",
   "execution_count": 8,
   "metadata": {},
   "outputs": [
    {
     "data": {
      "text/plain": [
       "5"
      ]
     },
     "execution_count": 8,
     "metadata": {},
     "output_type": "execute_result"
    }
   ],
   "source": [
    "aumentar_dois(3)"
   ]
  },
  {
   "cell_type": "code",
   "execution_count": 9,
   "metadata": {},
   "outputs": [
    {
     "data": {
      "text/plain": [
       "9"
      ]
     },
     "execution_count": 9,
     "metadata": {},
     "output_type": "execute_result"
    }
   ],
   "source": [
    "aumentar_dois(7)"
   ]
  },
  {
   "cell_type": "markdown",
   "metadata": {},
   "source": [
    "pode ter várias variáveis, e variáveis com valores padrão"
   ]
  },
  {
   "cell_type": "code",
   "execution_count": 10,
   "metadata": {},
   "outputs": [
    {
     "name": "stdout",
     "output_type": "stream",
     "text": [
      "Aqui está sua pizza de peperonni com queijo muzzarella\n",
      "Aqui está sua pizza de portuguesa com queijo gorgonzola\n"
     ]
    }
   ],
   "source": [
    "def fazer_pizza(recheio, tipo_queijo = 'muzzarella'):\n",
    "    print(f'Aqui está sua pizza de {recheio} com queijo {tipo_queijo}')\n",
    "\n",
    "fazer_pizza('peperonni')\n",
    "fazer_pizza('portuguesa', tipo_queijo='gorgonzola')"
   ]
  },
  {
   "cell_type": "markdown",
   "metadata": {},
   "source": [
    "# Condicionais\n",
    "\n",
    "a base de qualquer algorítimo é a tomada de diferentes decisões conforme o valor de variáveis de entrada\n",
    "\n",
    "no python usamos if e else"
   ]
  },
  {
   "cell_type": "code",
   "execution_count": 11,
   "metadata": {},
   "outputs": [
    {
     "data": {
      "text/plain": [
       "True"
      ]
     },
     "execution_count": 11,
     "metadata": {},
     "output_type": "execute_result"
    }
   ],
   "source": [
    "idade = 21\n",
    "\n",
    "if idade >= 18:\n",
    "    pode_dirigir = True\n",
    "else:\n",
    "    pode_dirigir = False\n",
    "\n",
    "pode_dirigir"
   ]
  },
  {
   "cell_type": "markdown",
   "metadata": {},
   "source": [
    "Tarefa de casa\n",
    "\n",
    "Usando o algorítimo detalhado no site https://dicasdeprogramacao.com.br/algoritmo-para-validar-cpf/ construa a função validar_cpf(n) que receba uma string com um número de CPF e retorne True para CPFs válidos e False para CPFs inválidos "
   ]
  },
  {
   "cell_type": "code",
   "execution_count": 1,
   "metadata": {},
   "outputs": [
    {
     "name": "stdout",
     "output_type": "stream",
     "text": [
      "True\n",
      "False\n",
      "True\n",
      "False\n"
     ]
    }
   ],
   "source": [
    "def validar_cpf(n):\n",
    "    return True\n",
    "\n",
    "lista_cpfs = ['12919898035', '11111111111', '04713775037', '423521632']\n",
    "\n",
    "from cpf import validar_cpf_teste\n",
    "\n",
    "for cpf in lista_cpfs:\n",
    "    print(validar_cpf_teste(cpf))"
   ]
  },
  {
   "cell_type": "code",
   "execution_count": null,
   "metadata": {},
   "outputs": [],
   "source": []
  }
 ],
 "metadata": {
  "kernelspec": {
   "display_name": "venv",
   "language": "python",
   "name": "python3"
  },
  "language_info": {
   "codemirror_mode": {
    "name": "ipython",
    "version": 3
   },
   "file_extension": ".py",
   "mimetype": "text/x-python",
   "name": "python",
   "nbconvert_exporter": "python",
   "pygments_lexer": "ipython3",
   "version": "3.12.1"
  }
 },
 "nbformat": 4,
 "nbformat_minor": 2
}
