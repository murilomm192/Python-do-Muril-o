{
 "cells": [
  {
   "cell_type": "markdown",
   "metadata": {},
   "source": [
    "## Primeiros Passos Python\n",
    "\n",
    "**O que precisa para rodar os programas?**\n",
    "\n",
    "1) instalação local na máquina\n",
    "\n",
    "[site oficial] (https://www.python.org/downloads/)\n",
    "\n",
    "2) instalação Portátil\n",
    "\n",
    "Versão mantem todos os arquivos dentro de um só pasta, não precisando de interfaço com arquivos de sistema\n",
    "\n",
    "[winpyhton] (https://winpython.github.io/#portable)\n",
    "\n",
    "3) Editores Online\n",
    "\n",
    "[Google Colab] (https://colab.google/)\n",
    "\n",
    "Tem interface com o Google Drive e permite colaboração no mesmo arquivo e até interface com IA dentro no mesmo arquivo.\n",
    "\n",
    "[Repl.it] (https://replit.com/)\n",
    "\n",
    "IDE Online com free tier generoso, e eles tem ambientes não só de Python mas também de várias outras linguagens e frameworks\n",
    "\n",
    "[Codespaces] (https://github.com/codespaces)\n",
    "\n",
    "Ferramenta muito boa do Github, integra muito bem com o vscode e tem um tier free de 100h por mês."
   ]
  },
  {
   "cell_type": "markdown",
   "metadata": {},
   "source": [
    "# Variáveis e Tipos\n",
    "\n",
    "* Variáveis\n",
    "\n",
    "Fundação de todas as linguagens de programação, como guardamos e acessamos informação dentro de um script, Python tem os seguintes tipos nativamente:\n",
    "\n",
    "Strings: Texto\n",
    "\n",
    "Int: Numeros inteiros\n",
    "\n",
    "Float: Números Decimais\n",
    "\n",
    "Bool: Verdadeiro ou Falso"
   ]
  },
  {
   "cell_type": "code",
   "execution_count": 2,
   "metadata": {},
   "outputs": [
    {
     "name": "stdout",
     "output_type": "stream",
     "text": [
      "False\n"
     ]
    }
   ],
   "source": [
    "a = 'minha variável'\n",
    "b = 12\n",
    "c = 3.14\n",
    "d = False\n",
    "\n",
    "print(d)"
   ]
  },
  {
   "cell_type": "markdown",
   "metadata": {},
   "source": [
    "Os tipos padrão já vem funções que podemos executar nativamente (chamados de métodos)\n",
    "\n",
    "Exemplo posso transformar uma string em maiúsculo com o método .upper() ou dividir as palavras com o método .split()"
   ]
  },
  {
   "cell_type": "code",
   "execution_count": 4,
   "metadata": {},
   "outputs": [
    {
     "name": "stdout",
     "output_type": "stream",
     "text": [
      "MINHA VARIÁVEL\n",
      "['minha', 'variável']\n"
     ]
    },
    {
     "data": {
      "text/plain": [
       "'murilo'"
      ]
     },
     "execution_count": 4,
     "metadata": {},
     "output_type": "execute_result"
    }
   ],
   "source": [
    "print(a.upper())\n",
    "print(a.split())\n",
    "\n",
    "'MURILO'.lower()"
   ]
  },
  {
   "cell_type": "markdown",
   "metadata": {},
   "source": [
    "Operações com o tipos básicos"
   ]
  },
  {
   "cell_type": "code",
   "execution_count": 12,
   "metadata": {},
   "outputs": [
    {
     "data": {
      "text/plain": [
       "'minha variável3'"
      ]
     },
     "execution_count": 12,
     "metadata": {},
     "output_type": "execute_result"
    }
   ],
   "source": [
    "a + str(3)\n",
    "#b + 2.2,\n",
    "#b + c,\n",
    "#b != c"
   ]
  },
  {
   "cell_type": "markdown",
   "metadata": {},
   "source": [
    "# Principais Estruturas de Dados e como as usar\n",
    "\n",
    "* Lista\n",
    "\n",
    "definida por [ ], pode receber qualquer tipo de elemento, e conserva suas posições"
   ]
  },
  {
   "cell_type": "code",
   "execution_count": 31,
   "metadata": {},
   "outputs": [
    {
     "data": {
      "text/plain": [
       "[2, 'ss', 6.28, 2, 0, 28]"
      ]
     },
     "execution_count": 31,
     "metadata": {},
     "output_type": "execute_result"
    }
   ],
   "source": [
    "l = [1, 's', 3.14, True, False, 14]\n",
    "\n",
    "#l[1]\n",
    "#l[-1]\n",
    "#l[::-1]\n",
    "#3.14 in l\n",
    "#l = l + ['z']\n",
    "l\n",
    "l * 2\n",
    "\n",
    "ll = [x*2 for x in l]\n",
    "\n",
    "for x in l:\n",
    "    ll.append(x*2)\n",
    "\n",
    "ll"
   ]
  },
  {
   "cell_type": "markdown",
   "metadata": {},
   "source": [
    "* Tuple\n",
    "\n",
    "definido por ( ), guada a posição e é os elementos são inalteráveis depois de registrados"
   ]
  },
  {
   "cell_type": "code",
   "execution_count": 33,
   "metadata": {},
   "outputs": [
    {
     "ename": "TypeError",
     "evalue": "'tuple' object does not support item assignment",
     "output_type": "error",
     "traceback": [
      "\u001b[1;31m---------------------------------------------------------------------------\u001b[0m",
      "\u001b[1;31mTypeError\u001b[0m                                 Traceback (most recent call last)",
      "Cell \u001b[1;32mIn[33], line 4\u001b[0m\n\u001b[0;32m      1\u001b[0m t \u001b[38;5;241m=\u001b[39m (\u001b[38;5;241m1\u001b[39m, \u001b[38;5;241m4\u001b[39m)\n\u001b[0;32m      3\u001b[0m t[\u001b[38;5;241m0\u001b[39m]\n\u001b[1;32m----> 4\u001b[0m \u001b[43mt\u001b[49m\u001b[43m[\u001b[49m\u001b[38;5;241;43m0\u001b[39;49m\u001b[43m]\u001b[49m \u001b[38;5;241m=\u001b[39m \u001b[38;5;241m2\u001b[39m\n",
      "\u001b[1;31mTypeError\u001b[0m: 'tuple' object does not support item assignment"
     ]
    }
   ],
   "source": [
    "t = (1, 4)\n",
    "\n",
    "t[0]\n",
    "t[0] = 2"
   ]
  },
  {
   "cell_type": "markdown",
   "metadata": {},
   "source": [
    "* Dicionário\n",
    "\n",
    "definido por { }, usa pares de chaves e valores, chave sempre tem que ser uma string e é muito útil para registro e acesso de elementos expecíficos em grande população.\n",
    "\n",
    "Parecido com JSON"
   ]
  },
  {
   "cell_type": "code",
   "execution_count": 40,
   "metadata": {},
   "outputs": [
    {
     "data": {
      "text/plain": [
       "dict_values(['Murilo', 'ETP', ['filmes', 'música', 'praia']])"
      ]
     },
     "execution_count": 40,
     "metadata": {},
     "output_type": "execute_result"
    }
   ],
   "source": [
    "funcionario = {\n",
    "    'nome': 'Murilo',\n",
    "    'cargo': 'ETP',\n",
    "    'hobbies': ['filmes', 'música', 'praia'],\n",
    "    \n",
    "}\n",
    "\n",
    "\n",
    "\n",
    "#funcionario['nome']\n",
    "#funcionario.keys()\n",
    "#funcionario.items()\n",
    "funcionario['hobbies'][2]\n",
    "funcionario.values()"
   ]
  },
  {
   "cell_type": "markdown",
   "metadata": {},
   "source": [
    "# Funções\n",
    "\n",
    "Funções são modos de reusar o mesmo código várias vezes, são definidas usando a keyword def nome_da_função(): e pode ou não ter a keyword return no final"
   ]
  },
  {
   "cell_type": "code",
   "execution_count": 49,
   "metadata": {},
   "outputs": [
    {
     "name": "stdout",
     "output_type": "stream",
     "text": [
      "teste\n",
      "teste\n"
     ]
    }
   ],
   "source": [
    "def funcao_teste():\n",
    "    print('teste')\n",
    "\n",
    "funcao_teste()"
   ]
  },
  {
   "cell_type": "code",
   "execution_count": 45,
   "metadata": {},
   "outputs": [],
   "source": [
    "n = 0\n",
    "\n",
    "def aumentar_dois(n):\n",
    "    return n + 2"
   ]
  },
  {
   "cell_type": "code",
   "execution_count": 51,
   "metadata": {},
   "outputs": [
    {
     "data": {
      "text/plain": [
       "19"
      ]
     },
     "execution_count": 51,
     "metadata": {},
     "output_type": "execute_result"
    }
   ],
   "source": [
    "aumentar_dois(7) + 10"
   ]
  },
  {
   "cell_type": "markdown",
   "metadata": {},
   "source": [
    "pode ter várias variáveis, e variáveis com valores padrão"
   ]
  },
  {
   "cell_type": "code",
   "execution_count": 50,
   "metadata": {},
   "outputs": [
    {
     "name": "stdout",
     "output_type": "stream",
     "text": [
      "Aqui está sua pizza de peperonni com queijo muzzarella\n",
      "Aqui está sua pizza de portuguesa com queijo gorgonzola\n"
     ]
    }
   ],
   "source": [
    "def fazer_pizza(recheio, tipo_queijo = 'muzzarella'):\n",
    "    print(f'Aqui está sua pizza de {recheio} com queijo {tipo_queijo}')\n",
    "\n",
    "fazer_pizza('peperonni')\n",
    "fazer_pizza('portuguesa', tipo_queijo='gorgonzola')"
   ]
  },
  {
   "cell_type": "markdown",
   "metadata": {},
   "source": [
    "# Condicionais\n",
    "\n",
    "a base de qualquer algorítimo é a tomada de diferentes decisões conforme o valor de variáveis de entrada\n",
    "\n",
    "no python usamos if e else"
   ]
  },
  {
   "cell_type": "code",
   "execution_count": 60,
   "metadata": {},
   "outputs": [
    {
     "name": "stdout",
     "output_type": "stream",
     "text": [
      "adolescente\n"
     ]
    },
    {
     "data": {
      "text/plain": [
       "17"
      ]
     },
     "execution_count": 60,
     "metadata": {},
     "output_type": "execute_result"
    }
   ],
   "source": [
    "idade = int(input())\n",
    "\n",
    "if (idade <= 18 ) & (idade >= 10):\n",
    "    print('adolescente')\n",
    "else:\n",
    "    print('adulto')\n",
    "\n",
    "idade"
   ]
  },
  {
   "cell_type": "markdown",
   "metadata": {},
   "source": [
    "Tarefa de casa\n",
    "\n",
    "Usando o algorítimo detalhado no site https://dicasdeprogramacao.com.br/algoritmo-para-validar-cpf/ construa a função validar_cpf(n) que receba uma string com um número de CPF e retorne True para CPFs válidos e False para CPFs inválidos "
   ]
  },
  {
   "cell_type": "code",
   "execution_count": 62,
   "metadata": {},
   "outputs": [
    {
     "name": "stdout",
     "output_type": "stream",
     "text": [
      "False\n",
      "False\n",
      "True\n",
      "False\n"
     ]
    }
   ],
   "source": [
    "lista_cpfs = ['12919838035', '11111111111', '04713775037', '423521632']\n",
    "\n",
    "from cpf import validar_cpf_teste\n",
    "\n",
    "for cpf in lista_cpfs:\n",
    "    print(validar_cpf_teste(cpf))"
   ]
  },
  {
   "cell_type": "code",
   "execution_count": null,
   "metadata": {},
   "outputs": [],
   "source": []
  }
 ],
 "metadata": {
  "kernelspec": {
   "display_name": "venv",
   "language": "python",
   "name": "python3"
  },
  "language_info": {
   "codemirror_mode": {
    "name": "ipython",
    "version": 3
   },
   "file_extension": ".py",
   "mimetype": "text/x-python",
   "name": "python",
   "nbconvert_exporter": "python",
   "pygments_lexer": "ipython3",
   "version": "3.12.1"
  }
 },
 "nbformat": 4,
 "nbformat_minor": 2
}
