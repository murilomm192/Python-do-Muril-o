{
 "cells": [
  {
   "cell_type": "markdown",
   "metadata": {},
   "source": [
    "## Conceitos Básicos Python\n",
    "\n",
    "**O que precisa para rodar os programas?**\n",
    "\n",
    "1) instalação local na máquina\n",
    "\n",
    "[site oficial] (https://www.python.org/downloads/)\n",
    "\n",
    "2) instalação Portátil\n",
    "\n",
    "Versão mantem todos os arquivos dentro de um só pasta, não precisando de interfaço com arquivos de sistema\n",
    "\n",
    "[winpyhton] (https://winpython.github.io/#portable)\n",
    "\n",
    "3) Editores Online\n",
    "\n",
    "[Google Colab] (https://colab.google/)\n",
    "\n",
    "Tem interface com o Google Drive e permite colaboração no mesmo arquivo e até interface com IA dentro no mesmo arquivo.\n",
    "\n",
    "[Repl.it] (https://replit.com/)\n",
    "\n",
    "IDE Online com free tier generoso, e eles tem ambientes não só de Python mas também de várias outras linguagens e frameworks\n",
    "\n",
    "[Codespaces] (https://github.com/codespaces)\n",
    "\n",
    "Ferramenta muito boa do Github, integra muito bem com o vscode e tem um tier free de 100h por mês."
   ]
  },
  {
   "cell_type": "code",
   "execution_count": null,
   "metadata": {},
   "outputs": [],
   "source": []
  },
  {
   "cell_type": "markdown",
   "metadata": {},
   "source": []
  }
 ],
 "metadata": {
  "language_info": {
   "name": "python"
  }
 },
 "nbformat": 4,
 "nbformat_minor": 2
}
