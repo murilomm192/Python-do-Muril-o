{
 "cells": [
  {
   "cell_type": "markdown",
   "metadata": {},
   "source": [
    "## Classes\n",
    "\n",
    "classes são estruturas de dados que encapsulam informações e podem ser reutilizadas mantendo o estado\n",
    "\n",
    "As classes são definidas com a Keyword **class** e pelo método __init__, as classes tem propriedades e métodos\n",
    "\n",
    "Por convenção a classe deve ser definida com a primeira letra maiúscula e com o keyword self como primeiro argumento."
   ]
  },
  {
   "cell_type": "code",
   "execution_count": 35,
   "metadata": {},
   "outputs": [],
   "source": [
    "class Cliente():\n",
    "    def __init__(self, nome, saldo):\n",
    "        self.nome = nome\n",
    "        self.saldo = saldo\n",
    "\n",
    "    def saque(self, valor):\n",
    "        self.saldo = self.saldo - valor\n",
    "        print(f'O cliente {self.nome} faz um saque no valor de  {valor}, o novo saldo é de {self.saldo}')\n",
    "\n",
    "    def deposito(self, valor):\n",
    "        self.saldo = self.saldo + valor\n",
    "        print(f'O cliente {self.nome} faz um deposito no valor de  {valor}, o novo saldo é de {self.saldo}')\n",
    "\n",
    "class Cliente_Premium(Cliente):\n",
    "    def agendar_atendimento(horario):\n",
    "        print(f'agendade no harario {horario}')\n",
    "    \n",
    "    def saque(self, valor):\n",
    "        return super().saque(valor)\n"
   ]
  },
  {
   "cell_type": "code",
   "execution_count": 36,
   "metadata": {},
   "outputs": [
    {
     "name": "stdout",
     "output_type": "stream",
     "text": [
      "10000\n",
      "O cliente joao faz um saque no valor de  1000, o novo saldo é de 9000\n",
      "9000\n",
      "O cliente pedro faz um deposito no valor de  500, o novo saldo é de 5500\n",
      "5500\n"
     ]
    }
   ],
   "source": [
    "joao = Cliente('joao', 10000)\n",
    "pedro = Cliente('pedro', 5000)\n",
    "carlos = Cliente_Premium('carlos', 100000)\n",
    "\n",
    "print(joao.saldo)\n",
    "joao.saque(1000)\n",
    "print(joao.saldo)\n",
    "\n",
    "pedro.deposito(500)\n",
    "print(pedro.saldo)"
   ]
  },
  {
   "cell_type": "markdown",
   "metadata": {},
   "source": [
    "Usando Bibliotecas de Terceiros\n",
    "\n",
    "reutilização de código é feita usando bibliotecas públicas e open source. \n",
    "\n",
    "Conceitos importantes:\n",
    "\n",
    "Ambiente Virtual\n",
    "\n",
    "pip"
   ]
  },
  {
   "cell_type": "code",
   "execution_count": 39,
   "metadata": {},
   "outputs": [
    {
     "name": "stdout",
     "output_type": "stream",
     "text": [
      "Movimentação de Produtos\n",
      "Loja Primeiro Bar [1]\n",
      "Período 01/03/2023 à 31/03/2023\n",
      "Tipo de relatório Geral\n",
      "Grupo venda CERVEJAS\n",
      "Agrupar por grupo Detalhado\n",
      "Produto\n",
      "Ranking Cód. Produto Un. Qtde. Valor Total % Total Grupo % Total Venda MTC\n",
      "CERVEJAS\n",
      "1 2645 CERVEJA SPATEN 355ML UN 834,00 9.924,60 21,49 154,53\n",
      "2 444 STELLA ARTOIS UN 789,00 9.389,10 20,33 146,19\n",
      "3 373 CORONA UN 496,00 6.894,40 14,93 91,90\n",
      "4 865 BECKS UN 471,00 6.075,90 13,16 87,27\n",
      "5 443 BUDWEISER UN 347,00 3.782,30 8,19 64,29\n",
      "6 449 CERVEJA SEM ÁLCOOL UN 289,00 2.861,10 6,20 53,55\n",
      "7 877 COLORADO RIBEIRAO LAGER UN 76,00 1.816,40 3,93 14,08\n",
      "8 612 COLORADO INDICA UN 34,00 1.016,60 2,20 6,30\n",
      "9 2647 STELLA ARTOIS S/GLUTEN UN 62,00 799,80 1,73 11,49\n",
      "10 611 COLORADO APPIA UN 23,00 664,70 1,44 4,26\n",
      "11 2230 COLORADO VIXNU UN 21,00 627,90 1,36 3,89\n",
      "12 2683 PROMO SPATEN 6+1 UN 9,00 588,60 1,27 1,67\n",
      "13 2352 PATAGONIA BOHEMIAN PILSENER UN 28,00 473,20 1,02 5,19\n",
      "14 605 SKOL BEATS SENSES UN 19,00 340,10 0,74 3,52\n",
      "15 2351 PATAGONIA WEISSE UN 19,00 321,10 0,70 3,52\n",
      "16 2648 SKOL BEATS GT UN 15,00 298,50 0,65 2,78\n",
      "17 613 COLORADO DEMOISELLE UN 4,00 119,60 0,26 0,74\n",
      "18 2638 BALDE STELLA PROMOCAO 6+1 UN 1,00 59,90 0,13 0,19\n",
      "19 767 GOOSE ISLAND UN 2,00 59,80 0,13 0,37\n",
      "20 2353 GOOSE SESSION IPA UN 2,00 39,80 0,09 0,37\n",
      "21 610 COLORADO CAUIM UN 1,00 28,90 0,06 0,19\n",
      "Total Grupo 3.542,00 46.182,30 100,00\n",
      "Aproximado\n",
      "Total 3.542 46.182,30\n",
      "L L wi i wn nx x w D S .d.e eAg g.u us st t .W coe mb .br por LUG Ce IAra Nd Eo Sem OU 0 Z6 A/0 4 O/ L2 I0 V2 E3 I R11 A: 5 D6 I: A4 S6\n",
      "Página 1/0\n"
     ]
    }
   ],
   "source": [
    "import pdfplumber\n",
    "\n",
    "with pdfplumber.open('relatorio.pdf') as pdf:\n",
    "    for page in pdf.pages:\n",
    "        print(page.extract_text())"
   ]
  },
  {
   "cell_type": "code",
   "execution_count": 40,
   "metadata": {},
   "outputs": [
    {
     "ename": "TypeError",
     "evalue": "unsupported operand type(s) for -: 'datetime.datetime' and 'int'",
     "output_type": "error",
     "traceback": [
      "\u001b[1;31m---------------------------------------------------------------------------\u001b[0m",
      "\u001b[1;31mTypeError\u001b[0m                                 Traceback (most recent call last)",
      "Cell \u001b[1;32mIn[40], line 5\u001b[0m\n\u001b[0;32m      1\u001b[0m \u001b[38;5;28;01mfrom\u001b[39;00m \u001b[38;5;21;01mdatetime\u001b[39;00m \u001b[38;5;28;01mimport\u001b[39;00m datetime\n\u001b[0;32m      3\u001b[0m dia \u001b[38;5;241m=\u001b[39m datetime\u001b[38;5;241m.\u001b[39mtoday()\n\u001b[1;32m----> 5\u001b[0m \u001b[38;5;28mprint\u001b[39m(\u001b[43mdia\u001b[49m\u001b[43m \u001b[49m\u001b[38;5;241;43m-\u001b[39;49m\u001b[43m \u001b[49m\u001b[38;5;241;43m3\u001b[39;49m)\n",
      "\u001b[1;31mTypeError\u001b[0m: unsupported operand type(s) for -: 'datetime.datetime' and 'int'"
     ]
    }
   ],
   "source": [
    "from datetime import datetime\n",
    "\n",
    "dia = datetime.today()\n",
    "\n",
    "print(dia.resolution())"
   ]
  },
  {
   "cell_type": "code",
   "execution_count": 47,
   "metadata": {},
   "outputs": [
    {
     "data": {
      "text/html": [
       "\n",
       "<style>\n",
       "  #altair-viz-5bbe6253a85d4c16871effac25ef427c.vega-embed {\n",
       "    width: 100%;\n",
       "    display: flex;\n",
       "  }\n",
       "\n",
       "  #altair-viz-5bbe6253a85d4c16871effac25ef427c.vega-embed details,\n",
       "  #altair-viz-5bbe6253a85d4c16871effac25ef427c.vega-embed details summary {\n",
       "    position: relative;\n",
       "  }\n",
       "</style>\n",
       "<div id=\"altair-viz-5bbe6253a85d4c16871effac25ef427c\"></div>\n",
       "<script type=\"text/javascript\">\n",
       "  var VEGA_DEBUG = (typeof VEGA_DEBUG == \"undefined\") ? {} : VEGA_DEBUG;\n",
       "  (function(spec, embedOpt){\n",
       "    let outputDiv = document.currentScript.previousElementSibling;\n",
       "    if (outputDiv.id !== \"altair-viz-5bbe6253a85d4c16871effac25ef427c\") {\n",
       "      outputDiv = document.getElementById(\"altair-viz-5bbe6253a85d4c16871effac25ef427c\");\n",
       "    }\n",
       "    const paths = {\n",
       "      \"vega\": \"https://cdn.jsdelivr.net/npm/vega@5?noext\",\n",
       "      \"vega-lib\": \"https://cdn.jsdelivr.net/npm/vega-lib?noext\",\n",
       "      \"vega-lite\": \"https://cdn.jsdelivr.net/npm/vega-lite@5.17.0?noext\",\n",
       "      \"vega-embed\": \"https://cdn.jsdelivr.net/npm/vega-embed@6?noext\",\n",
       "    };\n",
       "\n",
       "    function maybeLoadScript(lib, version) {\n",
       "      var key = `${lib.replace(\"-\", \"\")}_version`;\n",
       "      return (VEGA_DEBUG[key] == version) ?\n",
       "        Promise.resolve(paths[lib]) :\n",
       "        new Promise(function(resolve, reject) {\n",
       "          var s = document.createElement('script');\n",
       "          document.getElementsByTagName(\"head\")[0].appendChild(s);\n",
       "          s.async = true;\n",
       "          s.onload = () => {\n",
       "            VEGA_DEBUG[key] = version;\n",
       "            return resolve(paths[lib]);\n",
       "          };\n",
       "          s.onerror = () => reject(`Error loading script: ${paths[lib]}`);\n",
       "          s.src = paths[lib];\n",
       "        });\n",
       "    }\n",
       "\n",
       "    function showError(err) {\n",
       "      outputDiv.innerHTML = `<div class=\"error\" style=\"color:red;\">${err}</div>`;\n",
       "      throw err;\n",
       "    }\n",
       "\n",
       "    function displayChart(vegaEmbed) {\n",
       "      vegaEmbed(outputDiv, spec, embedOpt)\n",
       "        .catch(err => showError(`Javascript Error: ${err.message}<br>This usually means there's a typo in your chart specification. See the javascript console for the full traceback.`));\n",
       "    }\n",
       "\n",
       "    if(typeof define === \"function\" && define.amd) {\n",
       "      requirejs.config({paths});\n",
       "      require([\"vega-embed\"], displayChart, err => showError(`Error loading script: ${err.message}`));\n",
       "    } else {\n",
       "      maybeLoadScript(\"vega\", \"5\")\n",
       "        .then(() => maybeLoadScript(\"vega-lite\", \"5.17.0\"))\n",
       "        .then(() => maybeLoadScript(\"vega-embed\", \"6\"))\n",
       "        .catch(showError)\n",
       "        .then(() => displayChart(vegaEmbed));\n",
       "    }\n",
       "  })({\"config\": {\"view\": {\"continuousWidth\": 300, \"continuousHeight\": 300}}, \"layer\": [{\"mark\": {\"type\": \"bar\"}, \"encoding\": {\"color\": {\"field\": \"b\", \"type\": \"quantitative\"}, \"x\": {\"field\": \"a\", \"type\": \"nominal\"}, \"y\": {\"field\": \"b\", \"type\": \"quantitative\"}}}, {\"mark\": {\"type\": \"text\", \"yOffset\": -5}, \"encoding\": {\"text\": {\"field\": \"b\", \"type\": \"quantitative\"}, \"x\": {\"field\": \"a\", \"type\": \"nominal\"}, \"y\": {\"field\": \"b\", \"type\": \"quantitative\"}}}], \"data\": {\"name\": \"data-7684334a68ab74ba4c3ca7d0ceaeb461\"}, \"$schema\": \"https://vega.github.io/schema/vega-lite/v5.17.0.json\", \"datasets\": {\"data-7684334a68ab74ba4c3ca7d0ceaeb461\": [{\"a\": \"A\", \"b\": 28}, {\"a\": \"B\", \"b\": 55}, {\"a\": \"C\", \"b\": 43}, {\"a\": \"D\", \"b\": 91}, {\"a\": \"E\", \"b\": 81}, {\"a\": \"F\", \"b\": 53}, {\"a\": \"G\", \"b\": 19}, {\"a\": \"H\", \"b\": 87}, {\"a\": \"I\", \"b\": 52}]}}, {\"mode\": \"vega-lite\"});\n",
       "</script>"
      ],
      "text/plain": [
       "alt.LayerChart(...)"
      ]
     },
     "execution_count": 47,
     "metadata": {},
     "output_type": "execute_result"
    }
   ],
   "source": [
    "import altair as alt\n",
    "import pandas as pd\n",
    "\n",
    "source = pd.DataFrame({\n",
    "    'a': ['A', 'B', 'C', 'D', 'E', 'F', 'G', 'H', 'I'],\n",
    "    'b': [28, 55, 43, 91, 81, 53, 19, 87, 52]\n",
    "})\n",
    "\n",
    "text = chart = alt.Chart(source).mark_text(yOffset = - 5).encode(\n",
    "    x='a',\n",
    "    y='b',\n",
    "    text = 'b'\n",
    ")\n",
    "\n",
    "chart = alt.Chart(source).mark_bar().encode(\n",
    "    x='a',\n",
    "    y='b',\n",
    "    color = 'b'\n",
    ")\n",
    "\n",
    "chart + text"
   ]
  },
  {
   "cell_type": "code",
   "execution_count": 38,
   "metadata": {},
   "outputs": [
    {
     "data": {
      "image/jpeg": "[encoded data removed]",
      "text/plain": [
       "<IPython.core.display.Image object>"
      ]
     },
     "metadata": {},
     "output_type": "display_data"
    }
   ],
   "source": [
    "import requests\n",
    "from IPython import display\n",
    "\n",
    "data = requests.get('https://picsum.photos/400')\n",
    "\n",
    "display.display(display.Image(data.content))"
   ]
  },
  {
   "cell_type": "code",
   "execution_count": null,
   "metadata": {},
   "outputs": [],
   "source": []
  }
 ],
 "metadata": {
  "kernelspec": {
   "display_name": "venv",
   "language": "python",
   "name": "python3"
  },
  "language_info": {
   "codemirror_mode": {
    "name": "ipython",
    "version": 3
   },
   "file_extension": ".py",
   "mimetype": "text/x-python",
   "name": "python",
   "nbconvert_exporter": "python",
   "pygments_lexer": "ipython3",
   "version": "3.12.1"
  }
 },
 "nbformat": 4,
 "nbformat_minor": 2
}
