{
 "cells": [
  {
   "cell_type": "code",
   "execution_count": null,
   "metadata": {},
   "outputs": [],
   "source": [
    "import requests\n",
    "from IPython.display import Image\n"
   ]
  },
  {
   "cell_type": "code",
   "execution_count": null,
   "metadata": {},
   "outputs": [],
   "source": [
    "import requests \n",
    "from bs4 import BeautifulSoup\n",
    "\n",
    "URL = 'https://www.atacadao.com.br/catalogo'\n",
    "website = requests.get(URL)\n",
    "\n",
    "results = BeautifulSoup(website.content, 'html.parser')\n",
    "\n",
    "results.text\n",
    "\n",
    "# results.splitlines()"
   ]
  },
  {
   "cell_type": "code",
   "execution_count": null,
   "metadata": {},
   "outputs": [],
   "source": [
    "#response = requests.get(f'https://restcountries.com/v3.1/all?fields=name,capital,continents,area,population')\n",
    "\n",
    "response = requests.get('https://restcountries.com/v3.1/name/Brazil')\n",
    "\n",
    "response.json()"
   ]
  },
  {
   "cell_type": "code",
   "execution_count": null,
   "metadata": {},
   "outputs": [],
   "source": [
    "\n",
    "response = requests.get(f'https://dog.ceo/api/breeds/image/random')\n",
    "\n",
    "Image(response.json()['message'])"
   ]
  },
  {
   "cell_type": "code",
   "execution_count": null,
   "metadata": {},
   "outputs": [],
   "source": [
    "from selenium import webdriver\n",
    "from selenium.webdriver.support.ui import WebDriverWait\n",
    "from selenium.webdriver.support import expected_conditions as EC\n",
    "from selenium.webdriver.common.by import By\n",
    "\n",
    "options = webdriver.ChromeOptions()\n",
    "options.set_capability(\"goog:loggingPrefs\", {\"performance\": \"ALL\"})\n",
    "options.add_experimental_option(\"detach\", True),\n",
    "options.add_argument(\n",
    "    r\"--user-data-dir=C:\\Users\\99810903\\AppData\\Local\\Google\\Chrome\\User Data\\Profile 1\") #abre o chrome, digita chrome://version/ e copia o \"caminho do perfil\"\n",
    "options.add_experimental_option(\"perfLoggingPrefs\", {\"enableNetwork\": True})\n",
    "\n",
    "browser = webdriver.Chrome(options=options)\n",
    "\n",
    "delay = 5\n",
    "\n",
    "for page in range(1,5):\n",
    "\n",
    "    browser.get(f\"https://www.atacadao.com.br/catalogo?productClusterIds=138&facets=productClusterIds&sort=score_desc&page={str(page)}\")\n",
    "\n",
    "    wrapper = WebDriverWait(browser, delay).until(\n",
    "        EC.presence_of_element_located((By.XPATH,r'//*[@id=\"__next\"]/main/section/div[2]/div[2]/div[3]/div[1]/ul/li[2]/article/div/section/h3'))\n",
    "        )\n",
    "\n",
    "    nav = browser.find_elements(By.TAG_NAME, 'h3')\n",
    "    preços = [text for text in browser.find_elements(By.TAG_NAME, 'p') if text.text.startswith('R$')]\n",
    "\n",
    "    print(f'pagina {page}')\n",
    "    for item in zip(nav, preços):\n",
    "        print(item[0].text, ' - ', item[1].text)"
   ]
  },
  {
   "cell_type": "code",
   "execution_count": 91,
   "metadata": {},
   "outputs": [
    {
     "data": {
      "text/plain": [
       "16"
      ]
     },
     "execution_count": 91,
     "metadata": {},
     "output_type": "execute_result"
    }
   ],
   "source": [
    "import pandas as pd\n",
    "import polars as pl\n",
    "\n",
    "produtos_atacadao = requests.get('https://www.atacadao.com.br/api/graphql?operationName=ProductsQuery&variables=%7B%22first%22%3A20%2C%22after%22%3A%220%22%2C%22sort%22%3A%22score_desc%22%2C%22term%22%3A%22%22%2C%22selectedFacets%22%3A%5B%7B%22key%22%3A%22productClusterIds%22%2C%22value%22%3A%22138%22%7D%2C%7B%22key%22%3A%22region-id%22%2C%22value%22%3A%22U1cjYXRhY2FkYW9icjg%3D%22%7D%2C%7B%22key%22%3A%22channel%22%2C%22value%22%3A%22%7B%5C%22salesChannel%5C%22%3A%5C%222%5C%22%2C%5C%22regionId%5C%22%3A%5C%22v2.58AF41F9B1F50018725A885A7CB8C910%5C%22%2C%5C%22seller%5C%22%3A%5C%22atacadaobr8%5C%22%7D%22%7D%2C%7B%22key%22%3A%22locale%22%2C%22value%22%3A%22pt-BR%22%7D%5D%7D')\n",
    "\n",
    "#produtos_atacadao.json()\n",
    "\n",
    "produtos = [x['node'] for x in produtos_atacadao.json()['data']['search']['products']['edges']]\n",
    "\n",
    "len(produtos[0])\n",
    "\n"
   ]
  },
  {
   "cell_type": "code",
   "execution_count": 94,
   "metadata": {},
   "outputs": [],
   "source": [
    "from datetime import datetime\n",
    "\n",
    "df = pd.json_normalize(produtos, record_path= ['image'],\n",
    "                       meta = ['id', 'sku', ['brand', 'name'], 'name', ['offers', 'highPrice'], ['offers', 'lowPrice']]\n",
    "                       )\n",
    "\n",
    "df['data'] = datetime.today()\n",
    "\n",
    "df.to_csv(f'atacadao_{datetime.today().day}-{datetime.today().month}.csv')"
   ]
  },
  {
   "cell_type": "code",
   "execution_count": 89,
   "metadata": {},
   "outputs": [
    {
     "data": {
      "text/plain": [
       "['https://atacadaobr.vtexassets.com/arquivos/ids/272305/m.jpg?v=638418539452700000',\n",
       " 'https://atacadaobr.vtexassets.com/arquivos/ids/281407/g.jpg?v=638465201590400000',\n",
       " 'https://atacadaobr.vtexassets.com/arquivos/ids/272006/m.jpg?v=638416811680300000',\n",
       " 'https://atacadaobr.vtexassets.com/arquivos/ids/272026/m.jpg?v=638416811920370000',\n",
       " 'https://atacadaobr.vtexassets.com/arquivos/ids/278249/m.jpg?v=638459147316370000',\n",
       " 'https://atacadaobr.vtexassets.com/arquivos/ids/268123/g.jpg?v=638379660041570000',\n",
       " 'https://atacadaobr.vtexassets.com/arquivos/ids/239783/g.jpg?v=638353833768500000',\n",
       " 'https://atacadaobr.vtexassets.com/arquivos/ids/230682/g.jpg?v=638353733341500000',\n",
       " 'https://atacadaobr.vtexassets.com/arquivos/ids/281244/g.jpg?v=638465199991470000',\n",
       " 'https://atacadaobr.vtexassets.com/arquivos/ids/277276/p.jpg?v=638447916154000000',\n",
       " 'https://atacadaobr.vtexassets.com/arquivos/ids/245228/g.jpg?v=638353893014230000',\n",
       " 'https://atacadaobr.vtexassets.com/arquivos/ids/238822/g.jpg?v=638353823229700000',\n",
       " 'https://atacadaobr.vtexassets.com/arquivos/ids/284804/m.jpg?v=638467789673200000',\n",
       " 'https://atacadaobr.vtexassets.com/arquivos/ids/236925/g.jpg?v=638353802070600000',\n",
       " 'https://atacadaobr.vtexassets.com/arquivos/ids/263896/g.jpg?v=638354097480170000',\n",
       " 'https://atacadaobr.vtexassets.com/arquivos/ids/266451/p.jpg?v=638363244863230000',\n",
       " 'https://atacadaobr.vtexassets.com/arquivos/ids/279016/g.jpg?v=638460880218430000',\n",
       " 'https://atacadaobr.vtexassets.com/arquivos/ids/249387/g.jpg?v=638353938702970000',\n",
       " 'https://atacadaobr.vtexassets.com/arquivos/ids/256710/g.jpg?v=638354019023970000',\n",
       " 'https://atacadaobr.vtexassets.com/arquivos/ids/268713/g.jpg?v=638379666336300000']"
      ]
     },
     "execution_count": 89,
     "metadata": {},
     "output_type": "execute_result"
    }
   ],
   "source": [
    "df['url'].to_list()"
   ]
  },
  {
   "cell_type": "code",
   "execution_count": null,
   "metadata": {},
   "outputs": [],
   "source": []
  }
 ],
 "metadata": {
  "kernelspec": {
   "display_name": "venv",
   "language": "python",
   "name": "python3"
  },
  "language_info": {
   "codemirror_mode": {
    "name": "ipython",
    "version": 3
   },
   "file_extension": ".py",
   "mimetype": "text/x-python",
   "name": "python",
   "nbconvert_exporter": "python",
   "pygments_lexer": "ipython3",
   "version": "3.12.1"
  }
 },
 "nbformat": 4,
 "nbformat_minor": 2
}
