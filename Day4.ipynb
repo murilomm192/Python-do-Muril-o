{
 "cells": [
  {
   "cell_type": "code",
   "execution_count": 1,
   "metadata": {},
   "outputs": [],
   "source": [
    "import requests\n",
    "from IPython.display import Image\n"
   ]
  },
  {
   "cell_type": "code",
   "execution_count": 2,
   "metadata": {},
   "outputs": [
    {
     "data": {
      "text/plain": [
       "'Atacadão –suas compras de supermercado online com preço de atacado | Atacadão\\nApp Meu AtacadãoNossas lojasFolhetosCartão AtacadãoAtendimentoInstitucionalBaixe o App Meu AtacadãoBem-vindoEntre ou cadastre-se0Compre por categoriaBebidasMerceariaGrãosLimpezaHigieneÓleosBebêsPadariaBomboniereTodas as ofertasLoja - Vila Maria | Entregar no CEP:02170-901AlterarCatalogoCatalogoCatalogo0 produto encontradoOrdenar porRelevânciaFiltrar0 produto encontradoAtendimentoMeus pedidosCentral de atendimentoCartão AtacadãoFale conoscoInstitucionalQuem somosNossas lojasFolhetosTrabalhe conoscoAplicativo Meu AtacadãoImprensaBlog AtacadãoPolíticas AtacadãoPolítica de Trocas e DevoluçõesTermos de UsoPolíticas de PrivacidadePolítica de DiversidadeFormas de pagamentoBaixe o aplicativo Meu AtacadãoAcompanhe a gente nas redes sociaisRacismo é crime. Denuncie. Disque 100 ou procure a Delegacia de Polícia Civil mais próxima ou o Ministério Público.Atacadão S.A. Avenida Morvan Dias de Figueiredo, 6169, Vila Maria, São Paulo - SP | CEP 02170-901 | CNPJ: 45.543.915/0846-95Envio de documentos administrativos e jurídicos: Avenida Morvan Dias de Figueiredo, 6169, Vila Maria, São Paulo - SP | CEP 02170-901[email\\xa0protected]'"
      ]
     },
     "execution_count": 2,
     "metadata": {},
     "output_type": "execute_result"
    }
   ],
   "source": [
    "import requests \n",
    "from bs4 import BeautifulSoup\n",
    "\n",
    "URL = 'https://www.atacadao.com.br/catalogo'\n",
    "website = requests.get(URL)\n",
    "\n",
    "results = BeautifulSoup(website.content, 'html.parser')\n",
    "\n",
    "results.text\n",
    "\n",
    "# results.splitlines()"
   ]
  },
  {
   "cell_type": "code",
   "execution_count": 3,
   "metadata": {},
   "outputs": [],
   "source": [
    "# response = requests.get(f'https://restcountries.com/v3.1/all?fields=name,capital,continents,area,population')\n",
    "\n",
    "# #response = requests.get('https://restcountries.com/v3.1/name/Brazil')\n",
    "\n",
    "# response.json()"
   ]
  },
  {
   "cell_type": "code",
   "execution_count": 4,
   "metadata": {},
   "outputs": [],
   "source": [
    "\n",
    "# response = requests.get(f'https://dog.ceo/api/breeds/image/random')\n",
    "\n",
    "# Image(response.json()['message'])"
   ]
  },
  {
   "cell_type": "code",
   "execution_count": 5,
   "metadata": {},
   "outputs": [],
   "source": [
    "# from selenium import webdriver\n",
    "# from selenium.webdriver.support.ui import WebDriverWait\n",
    "# from selenium.webdriver.support import expected_conditions as EC\n",
    "# from selenium.webdriver.common.by import By\n",
    "\n",
    "# options = webdriver.ChromeOptions()\n",
    "# options.set_capability(\"goog:loggingPrefs\", {\"performance\": \"ALL\"})\n",
    "# options.add_experimental_option(\"detach\", True),\n",
    "# options.add_argument(\n",
    "#     r\"--user-data-dir=C:\\Users\\99810903\\AppData\\Local\\Google\\Chrome\\User Data\\Profile 1\") #abre o chrome, digita chrome://version/ e copia o \"caminho do perfil\"\n",
    "# options.add_experimental_option(\"perfLoggingPrefs\", {\"enableNetwork\": True})\n",
    "\n",
    "# browser = webdriver.Chrome(options=options)\n",
    "\n",
    "# delay = 5\n",
    "\n",
    "# for page in range(1,5):\n",
    "\n",
    "#     browser.get(f\"https://www.atacadao.com.br/catalogo?productClusterIds=138&facets=productClusterIds&sort=score_desc&page={str(page)}\")\n",
    "\n",
    "#     wrapper = WebDriverWait(browser, delay).until(\n",
    "#         EC.presence_of_element_located((By.XPATH,r'//*[@id=\"__next\"]/main/section/div[2]/div[2]/div[3]/div[1]/ul/li[2]/article/div/section/h3'))\n",
    "#         )\n",
    "\n",
    "#     nav = browser.find_elements(By.TAG_NAME, 'h3')\n",
    "#     preços = [text for text in browser.find_elements(By.TAG_NAME, 'p') if text.text.startswith('R$')]\n",
    "\n",
    "#     print(f'pagina {page}')\n",
    "#     for item in zip(nav, preços):\n",
    "#         print(item[0].text, ' - ', item[1].text)"
   ]
  },
  {
   "cell_type": "code",
   "execution_count": 6,
   "metadata": {},
   "outputs": [
    {
     "data": {
      "text/plain": [
       "962"
      ]
     },
     "execution_count": 6,
     "metadata": {},
     "output_type": "execute_result"
    }
   ],
   "source": [
    "import pandas as pd\n",
    "import polars as pl\n",
    "from datetime import datetime\n",
    "\n",
    "produtos = requests.get('https://www.atacadao.com.br/api/graphql?operationName=ProductsQuery&variables=%7B%22first%22%3A20%2C%22after%22%3A%220%22%2C%22sort%22%3A%22score_desc%22%2C%22term%22%3A%22%22%2C%22selectedFacets%22%3A%5B%7B%22key%22%3A%22productClusterIds%22%2C%22value%22%3A%22138%22%7D%2C%7B%22key%22%3A%22channel%22%2C%22value%22%3A%22%7B%5C%22salesChannel%5C%22%3A%5C%222%5C%22%2C%5C%22regionId%5C%22%3A%5C%22v2.58AF41F9B1F50018725A885A7CB8C910%5C%22%2C%5C%22seller%5C%22%3A%5C%22atacadaobr8%5C%22%7D%22%7D%2C%7B%22key%22%3A%22locale%22%2C%22value%22%3A%22pt-BR%22%7D%5D%7D')\n",
    "\n",
    "quantidade = produtos.json()['data']['search']['products']['pageInfo']['totalCount']\n",
    "\n",
    "quantidade"
   ]
  },
  {
   "cell_type": "code",
   "execution_count": 7,
   "metadata": {},
   "outputs": [
    {
     "name": "stdout",
     "output_type": "stream",
     "text": [
      "baixando itens 1 até 100\n",
      "baixando itens 101 até 200\n",
      "baixando itens 201 até 300\n",
      "baixando itens 301 até 400\n",
      "baixando itens 401 até 500\n",
      "baixando itens 501 até 600\n",
      "baixando itens 601 até 700\n",
      "baixando itens 701 até 800\n",
      "baixando itens 801 até 900\n",
      "baixando itens 901 até 962\n"
     ]
    }
   ],
   "source": [
    "import pandas as pd\n",
    "import polars as pl\n",
    "from datetime import datetime\n",
    "\n",
    "produtos_atacadao = requests.get('https://www.atacadao.com.br/api/graphql?operationName=ProductsQuery&variables=%7B%22first%22%3A100%2C%22after%22%3A%220%22%2C%22sort%22%3A%22score_desc%22%2C%22term%22%3A%22%22%2C%22selectedFacets%22%3A%5B%7B%22key%22%3A%22productClusterIds%22%2C%22value%22%3A%22138%22%7D%2C%7B%22key%22%3A%22region-id%22%2C%22value%22%3A%22U1cjYXRhY2FkYW9icjg%3D%22%7D%2C%7B%22key%22%3A%22channel%22%2C%22value%22%3A%22%7B%5C%22salesChannel%5C%22%3A%5C%222%5C%22%2C%5C%22regionId%5C%22%3A%5C%22v2.58AF41F9B1F50018725A885A7CB8C910%5C%22%2C%5C%22seller%5C%22%3A%5C%22atacadaobr8%5C%22%7D%22%7D%2C%7B%22key%22%3A%22locale%22%2C%22value%22%3A%22pt-BR%22%7D%5D%7D')\n",
    "\n",
    "quantidade = produtos_atacadao.json()['data']['search']['products']['pageInfo'].get('totalCount')\n",
    "#produtos_atacadao.json()\n",
    "x = 0\n",
    "quant_por_pagina = 100\n",
    "resultados = []\n",
    "\n",
    "while x < quantidade:\n",
    "    if x + quant_por_pagina > quantidade:\n",
    "        final = quantidade\n",
    "    else:\n",
    "        final = x + quant_por_pagina\n",
    "    print(f'baixando itens {x+1} até {final}')\n",
    "\n",
    "    produtos_var = requests.get(f'https://www.atacadao.com.br/api/graphql?operationName=ProductsQuery&variables=%7B%22first%22%3A{quant_por_pagina}%2C%22after%22%3A%22{x}%22%2C%22sort%22%3A%22score_desc%22%2C%22term%22%3A%22%22%2C%22selectedFacets%22%3A%5B%7B%22key%22%3A%22productClusterIds%22%2C%22value%22%3A%22138%22%7D%2C%7B%22key%22%3A%22channel%22%2C%22value%22%3A%22%7B%5C%22salesChannel%5C%22%3A%5C%222%5C%22%2C%5C%22regionId%5C%22%3A%5C%22v2.58AF41F9B1F50018725A885A7CB8C910%5C%22%2C%5C%22seller%5C%22%3A%5C%22atacadaobr8%5C%22%7D%22%7D%2C%7B%22key%22%3A%22locale%22%2C%22value%22%3A%22pt-BR%22%7D%5D%7D')\n",
    "    \n",
    "    produtos = [x['node'] for x in produtos_atacadao.json()['data']['search']['products']['edges']]\n",
    "    df = pd.json_normalize(produtos, record_path= ['image'],\n",
    "                       meta = ['id', 'sku', ['brand', 'name'], 'name', ['offers', 'highPrice'], ['offers', 'lowPrice']])\n",
    "    df['data'] = datetime.today()\n",
    "    df.columns = ['imagem', 'e', 'id', 'cod_sku_rede', 'fabricante', 'nome_prod', 'preço', 'preço_promocional', 'data']\n",
    "    df = df.drop('e', axis=1)\n",
    "\n",
    "    resultados.append(df)\n",
    "    x = x + quant_por_pagina\n",
    "\n",
    "df_consolidado = pd.concat(resultados).reset_index().drop('index', axis=1).drop_duplicates(keep='first')\n",
    "df_consolidado.to_csv(f'atacadao_{datetime.today().day}-{datetime.today().month}.csv')"
   ]
  },
  {
   "cell_type": "code",
   "execution_count": null,
   "metadata": {},
   "outputs": [],
   "source": []
  }
 ],
 "metadata": {
  "kernelspec": {
   "display_name": "venv",
   "language": "python",
   "name": "python3"
  },
  "language_info": {
   "codemirror_mode": {
    "name": "ipython",
    "version": 3
   },
   "file_extension": ".py",
   "mimetype": "text/x-python",
   "name": "python",
   "nbconvert_exporter": "python",
   "pygments_lexer": "ipython3",
   "version": "3.12.1"
  }
 },
 "nbformat": 4,
 "nbformat_minor": 2
}
