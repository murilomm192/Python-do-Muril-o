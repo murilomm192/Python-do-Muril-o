{
 "cells": [
  {
   "cell_type": "code",
   "execution_count": 1,
   "metadata": {},
   "outputs": [],
   "source": [
    "import requests\n",
    "from IPython.display import Image\n"
   ]
  },
  {
   "cell_type": "code",
   "execution_count": 2,
   "metadata": {},
   "outputs": [
    {
     "data": {
      "text/plain": [
       "'Atacadão –suas compras de supermercado online com preço de atacado | Atacadão\\nApp Meu AtacadãoNossas lojasFolhetosCartão AtacadãoAtendimentoInstitucionalBaixe o App Meu AtacadãoBem-vindoEntre ou cadastre-se0Compre por categoriaBebidasMerceariaGrãosLimpezaHigieneÓleosBebêsPadariaBomboniereTodas as ofertasLoja - Vila Maria | Entregar no CEP:02170-901AlterarCatalogoCatalogoCatalogo0 produto encontradoOrdenar porRelevânciaFiltrar0 produto encontradoSiga-nos nas redes sociaisAtendimentoInstitucionalPolíticas AtacadãoFormas de pagamentoAtendimentoMeus pedidosCentral de atendimentoCartão AtacadãoFale conoscoInstitucionalQuem somosNossas lojasFolhetosTrabalhe conoscoImprensaPolíticas AtacadãoPolítica de Trocas e DevoluçõesTermos de UsoPolíticas de PrivacidadePolítica de DiversidadeFormas de pagamentoCréditoSiga-nos nas redes sociaisRacismo é crime. Denuncie. Disque 100 ou procure a Delegacia de Polícia Civil mais próxima ou o Ministério Público.ATACADÃO S.AAv. Morvan Dias de Figueiredo, 6169, Vila Maria, São Paulo/SP - SP | CEP 02170-901Envio de documentos administrativos e jurídicos:Av. Morvan Dias de Figueiredo, 6169, Vila Maria, São Paulo/SP - SP | CEP 02170-901[email\\xa0protected]AMBIENTESEGURO'"
      ]
     },
     "execution_count": 2,
     "metadata": {},
     "output_type": "execute_result"
    }
   ],
   "source": [
    "import requests \n",
    "from bs4 import BeautifulSoup\n",
    "\n",
    "URL = 'https://www.atacadao.com.br/catalogo'\n",
    "website = requests.get(URL)\n",
    "\n",
    "results = BeautifulSoup(website.content, 'html.parser')\n",
    "\n",
    "results.text\n",
    "\n",
    "# results.splitlines()"
   ]
  },
  {
   "cell_type": "code",
   "execution_count": 3,
   "metadata": {},
   "outputs": [
    {
     "data": {
      "text/plain": [
       "[{'name': {'common': 'Brazil',\n",
       "   'official': 'Federative Republic of Brazil',\n",
       "   'nativeName': {'por': {'official': 'República Federativa do Brasil',\n",
       "     'common': 'Brasil'}}},\n",
       "  'tld': ['.br'],\n",
       "  'cca2': 'BR',\n",
       "  'ccn3': '076',\n",
       "  'cca3': 'BRA',\n",
       "  'cioc': 'BRA',\n",
       "  'independent': True,\n",
       "  'status': 'officially-assigned',\n",
       "  'unMember': True,\n",
       "  'currencies': {'BRL': {'name': 'Brazilian real', 'symbol': 'R$'}},\n",
       "  'idd': {'root': '+5', 'suffixes': ['5']},\n",
       "  'capital': ['Brasília'],\n",
       "  'altSpellings': ['BR',\n",
       "   'Brasil',\n",
       "   'Federative Republic of Brazil',\n",
       "   'República Federativa do Brasil'],\n",
       "  'region': 'Americas',\n",
       "  'subregion': 'South America',\n",
       "  'languages': {'por': 'Portuguese'},\n",
       "  'translations': {'ara': {'official': 'جمهورية البرازيل الاتحادية',\n",
       "    'common': 'البرازيل'},\n",
       "   'bre': {'official': 'Republik Kevreel Brazil', 'common': 'Brazil'},\n",
       "   'ces': {'official': 'Brazilská federativní republika',\n",
       "    'common': 'Brazílie'},\n",
       "   'cym': {'official': 'Gweriniaeth Ffederal Brasil', 'common': 'Brasil'},\n",
       "   'deu': {'official': 'Föderative Republik Brasilien', 'common': 'Brasilien'},\n",
       "   'est': {'official': 'Brasiilia Liitvabariik', 'common': 'Brasiilia'},\n",
       "   'fin': {'official': 'Brasilian liittotasavalta', 'common': 'Brasilia'},\n",
       "   'fra': {'official': 'République fédérative du Brésil', 'common': 'Brésil'},\n",
       "   'hrv': {'official': 'Savezne Republike Brazil', 'common': 'Brazil'},\n",
       "   'hun': {'official': 'Brazil Szövetségi Köztársaság', 'common': 'Brazília'},\n",
       "   'ita': {'official': 'Repubblica federativa del Brasile',\n",
       "    'common': 'Brasile'},\n",
       "   'jpn': {'official': 'ブラジル連邦共和国', 'common': 'ブラジル'},\n",
       "   'kor': {'official': '브라질 연방 공화국', 'common': '브라질'},\n",
       "   'nld': {'official': 'Federale Republiek Brazilië', 'common': 'Brazilië'},\n",
       "   'per': {'official': 'جمهوری فدراتیو برزیل', 'common': 'برزیل'},\n",
       "   'pol': {'official': 'Federacyjna Republika Brazylii', 'common': 'Brazylia'},\n",
       "   'por': {'official': 'República Federativa do Brasil', 'common': 'Brasil'},\n",
       "   'rus': {'official': 'Федеративная Республика Бразилия',\n",
       "    'common': 'Бразилия'},\n",
       "   'slk': {'official': 'Brazílska federatívna republika',\n",
       "    'common': 'Brazília'},\n",
       "   'spa': {'official': 'República Federativa del Brasil', 'common': 'Brasil'},\n",
       "   'srp': {'official': 'Савезна Република Бразил', 'common': 'Бразил'},\n",
       "   'swe': {'official': 'Förbundsrepubliken Brasilien', 'common': 'Brasilien'},\n",
       "   'tur': {'official': 'Brezilya Federal Cumhuriyeti', 'common': 'Brezilya'},\n",
       "   'urd': {'official': 'وفاقی جمہوریہ برازیل', 'common': 'برازیل'},\n",
       "   'zho': {'official': '巴西联邦共和国', 'common': '巴西'}},\n",
       "  'latlng': [-10.0, -55.0],\n",
       "  'landlocked': False,\n",
       "  'borders': ['ARG',\n",
       "   'BOL',\n",
       "   'COL',\n",
       "   'GUF',\n",
       "   'GUY',\n",
       "   'PRY',\n",
       "   'PER',\n",
       "   'SUR',\n",
       "   'URY',\n",
       "   'VEN'],\n",
       "  'area': 8515767.0,\n",
       "  'demonyms': {'eng': {'f': 'Brazilian', 'm': 'Brazilian'},\n",
       "   'fra': {'f': 'Brésilienne', 'm': 'Brésilien'}},\n",
       "  'flag': '🇧🇷',\n",
       "  'maps': {'googleMaps': 'https://goo.gl/maps/waCKk21HeeqFzkNC9',\n",
       "   'openStreetMaps': 'https://www.openstreetmap.org/relation/59470'},\n",
       "  'population': 212559409,\n",
       "  'gini': {'2019': 53.4},\n",
       "  'fifa': 'BRA',\n",
       "  'car': {'signs': ['BR'], 'side': 'right'},\n",
       "  'timezones': ['UTC-05:00', 'UTC-04:00', 'UTC-03:00', 'UTC-02:00'],\n",
       "  'continents': ['South America'],\n",
       "  'flags': {'png': 'https://flagcdn.com/w320/br.png',\n",
       "   'svg': 'https://flagcdn.com/br.svg',\n",
       "   'alt': \"The flag of Brazil has a green field with a large yellow rhombus in the center. Within the rhombus is a dark blue globe with twenty-seven small five-pointed white stars depicting a starry sky and a thin white convex horizontal band inscribed with the national motto 'Ordem e Progresso' across its center.\"},\n",
       "  'coatOfArms': {'png': 'https://mainfacts.com/media/images/coats_of_arms/br.png',\n",
       "   'svg': 'https://mainfacts.com/media/images/coats_of_arms/br.svg'},\n",
       "  'startOfWeek': 'monday',\n",
       "  'capitalInfo': {'latlng': [-15.79, -47.88]},\n",
       "  'postalCode': {'format': '#####-###', 'regex': '^(\\\\d{8})$'}}]"
      ]
     },
     "execution_count": 3,
     "metadata": {},
     "output_type": "execute_result"
    }
   ],
   "source": [
    "#response = requests.get(f'https://restcountries.com/v3.1/all?fields=name,capital,continents,area,population')\n",
    "\n",
    "response = requests.get('https://restcountries.com/v3.1/name/Brazil')\n",
    "\n",
    "response.json()"
   ]
  },
  {
   "cell_type": "code",
   "execution_count": 4,
   "metadata": {},
   "outputs": [
    {
     "data": {
      "image/jpeg": "[encoded data removed]",
      "text/plain": [
       "<IPython.core.display.Image object>"
      ]
     },
     "execution_count": 4,
     "metadata": {},
     "output_type": "execute_result"
    }
   ],
   "source": [
    "\n",
    "response = requests.get(f'https://dog.ceo/api/breeds/image/random')\n",
    "\n",
    "Image(response.json()['message'])"
   ]
  },
  {
   "cell_type": "code",
   "execution_count": 5,
   "metadata": {},
   "outputs": [
    {
     "name": "stderr",
     "output_type": "stream",
     "text": [
      "The chromedriver version (124.0.6367.207) detected in PATH at c:\\Users\\99810903\\OneDrive - Anheuser-Busch InBev\\Desktop\\Projetos\\Aulas\\chromedriver.exe might not be compatible with the detected chrome version (125.0.6422.76); currently, chromedriver 125.0.6422.76 is recommended for chrome 125.*, so it is advised to delete the driver in PATH and retry\n"
     ]
    },
    {
     "name": "stdout",
     "output_type": "stream",
     "text": [
      "pagina 1\n",
      "Leite Condensado Italac Semidesnatado TP com 395g  -  R$ 4,79\n",
      "Leite em Pó Ninho Integral Lata com 380g  -  R$ 15,99\n",
      "Leite Longa Vida Italac Com tampa Integral TP com 1L  -  R$ 5,45\n",
      "Leite Condensado Piracanjuba Semidesnatado TP com 395g  -  R$ 4,99\n",
      "Leite Longa Vida Piracanjuba Com tampa Integral TP com 1L  -  R$ 5,69\n",
      "Leite Condensado Moça Integral Lata com 395g  -  R$ 6,99\n",
      "Creme de Leite Italac TP com 200g  -  R$ 2,99\n",
      "Leite Condensado Marajoara Semidesnatado TP com 395g  -  R$ 5,49\n",
      "Cerveja Heineken Long Neck com 330ml  -  R$ 6,20\n",
      "Açúcar União Refinado Pacote com 1kg  -  R$ 5,49\n",
      "Bombom Garoto Sortido Caixeta com 250g  -  R$ 11,90\n",
      "Cerveja Amstel Sleek Lata com 350ml  -  R$ 3,19\n",
      "Fralda Descartável Pampers Supersec Jumbo G Pacote com 80 unidades  -  R$ 84,50\n",
      "Papel Sulfite Report A4 75g Pacote com 500 folhas  -  R$ 20,99\n",
      "Cerveja Heineken Sleek Lata com 350ml  -  R$ 4,79\n",
      "Sabão em Pedaço Ypê Neutro Promocional Pacote com 5x180g  -  R$ 9,45\n",
      "Energético Red Bull Lata com 250ml  -  R$ 9,49\n",
      "Cerveja Heineken Lata com 269ml  -  R$ 3,80\n",
      "Sal Lebre Refinado Pacote com 1kg  -  R$ 2,15\n",
      "Creme Ferrero Nutella Avelã com Cacau Pote com 650g  -  R$ 39,35\n",
      "pagina 2\n",
      "Chocolate Kit Kat Nestlé Ao Leite Unidade com 41,5g  -  R$ 2,95\n",
      "Detergente em Pó Omo Lavagem perfeita Caixeta com 800g  -  R$ 14,90\n",
      "Cerveja Amstel Lata com 269ml  -  R$ 2,75\n",
      "Lava Roupas Líquido Omo Lavagem perfeita Bombona com 5L  -  R$ 52,50\n",
      "Molho de Tomate Fugini Tradicional Pouch com 300g  -  R$ 1,49\n",
      "Detergente Líquido Limpol Neutro Frasco com 500ml  -  R$ 2,35\n",
      "Suco Néctar Maratá Uva TP com 200ml  -  R$ 1,45\n",
      "Molho de Tomate Quero Tradicional Pouch com 300g  -  R$ 2,25\n",
      "Achocolatado em Pó Nescau Pacote com 2kg  -  R$ 25,68\n",
      "Leite em Pó Ninho Integral Instantâneo Lata com 380g  -  R$ 15,99\n",
      "Sabonete Flor de Ypê Frésia e pêssego Unidade com 85g  -  R$ 1,23\n",
      "Toalha de Papel Snob Clássica 60 folhas Pacote com 2 rolos  -  R$ 6,30\n",
      "Detergente em Pó Omo Lavagem perfeita Pacote com 2,4kg  -  R$ 29,90\n",
      "Creme Ferrero Nutella Avelã com Cacau Pote com 140g  -  R$ 10,15\n",
      "Biscoito Recheado Passatempo Nestlé Chocolate Pacote com 130g  -  R$ 2,15\n",
      "Margarina Qualy Com sal Pote com 500g  -  R$ 7,60\n",
      "Lava Roupas Líquido Brilhante PRO Lavanderia Profissional Bombona com 7L  -  R$ 60,00\n",
      "Bebida Láctea Toddynho Chocolate TP com 200ml  -  R$ 2,25\n",
      "Limpador Multiuso Veja Original Frasco com 500ml  -  R$ 5,20\n",
      "Café Pilão Vácuo Pacote com 500g  -  R$ 14,50\n",
      "pagina 3\n",
      "Leite Longa Vida Piracanjuba Com tampa Desnatado TP com 1L  -  R$ 5,69\n",
      "Achocolatado em Pó Nescau Lata com 370g  -  R$ 6,99\n",
      "Amaciante de Roupas Ypê Aconchego Frasco com 2L  -  R$ 9,45\n",
      "Doce Paçoca Santa Helena Paçoquita Rolha Embalada Caixa com 100 unidades  -  R$ 26,99\n",
      "Cerveja Brahma Duplo Malte Lata com 269ml  -  R$ 2,29\n",
      "Vassoura Limpa Piso Condor Sem cabo Unidade  -  R$ 3,50\n",
      "Leite Longa Vida Piracanjuba Com tampa Semidesnatado TP com 1L  -  R$ 5,69\n",
      "Fralda Descartável Pampers Supersec Jumbo XG Pacote com 68 unidades  -  R$ 84,50\n",
      "Sabonete Dove Branco Pacote com 8x90g  -  R$ 24,90\n",
      "Refrigerante Guaraná Antarctica Lata com 350ml  -  R$ 2,49\n",
      "Cerveja Brahma Chopp Lata com 350ml  -  R$ 2,99\n",
      "Detergente em Pó Tixan Maciez Caixeta com 800g  -  R$ 10,20\n",
      "Bebida Láctea Italac Chocolate TP com 200ml  -  R$ 1,07\n",
      "Energético Baly Melancia Pet com 2L  -  R$ 12,15\n",
      "Amaciante para Roupas Ypê Aconchego Bombona com 5L  -  R$ 22,05\n",
      "Adoçante Líquido Zero-Cal Sacarina Frasco com 100ml  -  R$ 4,99\n",
      "Guardanapo de Papel Snob 24x22cm Pacote com 50 unidades  -  R$ 2,39\n",
      "Sal Cisne Refinado Extra Pacote com 1kg  -  R$ 3,55\n",
      "Farinha de Trigo Anaconda Tipo 1 Pacote com 1kg  -  R$ 3,69\n",
      "Fralda Descartável Pampers Supersec Jumbo M Pacote com 90 unidades  -  R$ 84,50\n",
      "pagina 4\n",
      "Milho Verde Fugini Pouch com 170g  -  R$ 2,90\n",
      "Cerveja Skol Lata com 350ml  -  R$ 3,75\n",
      "Fralda Descartável Pampers Pants G Pacote com 72 unidades  -  R$ 121,50\n",
      "Toalha de Papel Klass 50 folhas Pacote com 2 rolos  -  R$ 4,05\n",
      "Guardanapo de Papel Santepel 24x22cm Pacote com 50 unidades  -  R$ 2,29\n",
      "Inseticida Aerossol Baygon Ação total Tubo com 360ml  -  R$ 10,95\n",
      "Detergente Líquido Ypê Coco Frasco com 500ml  -  R$ 2,35\n",
      "Escova Lavadeira Condor Oval nº 16 Unidade  -  R$ 1,69\n",
      "Creme Dental Oral-B 1-2-3 Caixeta com 12x70g  -  R$ 26,00\n",
      "Papel Higiênico Personal Vip Folha dupla - 30m Pacote com 12 rolos  -  R$ 17,90\n",
      "Caixa Amplificada Mondial Bivolt - 400W Unidade  -  R$ 379,00\n",
      "Energético Baly Tradicional Pet com 2L  -  R$ 11,90\n",
      "Fralda Descartável Pampers Pants XG Pacote com 66 unidades  -  R$ 121,50\n",
      "Mistura Láctea Condensada Mococa TP com 395g  -  R$ 3,56\n",
      "Doce Paçoca Santa Helena Paçoquita Rolha Embalada Pote com 50x15g  -  R$ 24,99\n",
      "Saco para Lixo Embalixo Super econômico - 50L Rolo com 50 unidades  -  R$ 5,70\n",
      "Detergente em Pó Omo Expert Roupas Brancas Caixeta com 720g  -  R$ 14,90\n",
      "Isqueiro Bic Maxi Cartela com 12 unidades  -  R$ 55,90\n",
      "Macarrão Instantâneo Nissin Cup Noodles Galinha caipira Copo com 69g  -  R$ 4,79\n",
      "Café União Tradicional Pouch com 500g  -  R$ 12,95\n"
     ]
    }
   ],
   "source": [
    "from selenium import webdriver\n",
    "from selenium.webdriver.support.ui import WebDriverWait\n",
    "from selenium.webdriver.support import expected_conditions as EC\n",
    "from selenium.webdriver.common.by import By\n",
    "\n",
    "options = webdriver.ChromeOptions()\n",
    "options.set_capability(\"goog:loggingPrefs\", {\"performance\": \"ALL\"})\n",
    "options.add_experimental_option(\"detach\", True),\n",
    "options.add_argument(\n",
    "    r\"--user-data-dir=C:\\Users\\99810903\\AppData\\Local\\Google\\Chrome\\User Data\\Profile 1\") #abre o chrome, digita chrome://version/ e copia o \"caminho do perfil\"\n",
    "options.add_experimental_option(\"perfLoggingPrefs\", {\"enableNetwork\": True})\n",
    "\n",
    "browser = webdriver.Chrome(options=options)\n",
    "\n",
    "delay = 5\n",
    "\n",
    "for page in range(1,5):\n",
    "\n",
    "    browser.get(f\"https://www.atacadao.com.br/catalogo?productClusterIds=138&facets=productClusterIds&sort=score_desc&page={str(page)}\")\n",
    "\n",
    "    wrapper = WebDriverWait(browser, delay).until(\n",
    "        EC.presence_of_element_located((By.XPATH,r'//*[@id=\"__next\"]/main/section/div[2]/div[2]/div[3]/div[1]/ul/li[2]/article/div/section/h3'))\n",
    "        )\n",
    "\n",
    "    nav = browser.find_elements(By.TAG_NAME, 'h3')\n",
    "    preços = [text for text in browser.find_elements(By.TAG_NAME, 'p') if text.text.startswith('R$')]\n",
    "\n",
    "    print(f'pagina {page}')\n",
    "    for item in zip(nav, preços):\n",
    "        print(item[0].text, ' - ', item[1].text)"
   ]
  },
  {
   "cell_type": "code",
   "execution_count": 6,
   "metadata": {},
   "outputs": [
    {
     "data": {
      "text/plain": [
       "16"
      ]
     },
     "execution_count": 6,
     "metadata": {},
     "output_type": "execute_result"
    }
   ],
   "source": [
    "import pandas as pd\n",
    "import polars as pl\n",
    "\n",
    "produtos_atacadao = requests.get('https://www.atacadao.com.br/api/graphql?operationName=ProductsQuery&variables=%7B%22first%22%3A20%2C%22after%22%3A%220%22%2C%22sort%22%3A%22score_desc%22%2C%22term%22%3A%22%22%2C%22selectedFacets%22%3A%5B%7B%22key%22%3A%22productClusterIds%22%2C%22value%22%3A%22138%22%7D%2C%7B%22key%22%3A%22region-id%22%2C%22value%22%3A%22U1cjYXRhY2FkYW9icjg%3D%22%7D%2C%7B%22key%22%3A%22channel%22%2C%22value%22%3A%22%7B%5C%22salesChannel%5C%22%3A%5C%222%5C%22%2C%5C%22regionId%5C%22%3A%5C%22v2.58AF41F9B1F50018725A885A7CB8C910%5C%22%2C%5C%22seller%5C%22%3A%5C%22atacadaobr8%5C%22%7D%22%7D%2C%7B%22key%22%3A%22locale%22%2C%22value%22%3A%22pt-BR%22%7D%5D%7D')\n",
    "\n",
    "#produtos_atacadao.json()\n",
    "\n",
    "produtos = [x['node'] for x in produtos_atacadao.json()['data']['search']['products']['edges']]\n",
    "\n",
    "len(produtos[0])\n",
    "\n"
   ]
  },
  {
   "cell_type": "code",
   "execution_count": 7,
   "metadata": {},
   "outputs": [],
   "source": [
    "from datetime import datetime\n",
    "\n",
    "df = pd.json_normalize(produtos, record_path= ['image'],\n",
    "                       meta = ['id', 'sku', ['brand', 'name'], 'name', ['offers', 'highPrice'], ['offers', 'lowPrice']]\n",
    "                       )\n",
    "\n",
    "df['data'] = datetime.today()\n",
    "\n",
    "df.columns = ['imagem', 'e', 'id', 'cod_sku_rede', 'fabricante', 'nome_prod', 'preço', 'preço_promocional', 'data']\n",
    "\n",
    "df = df.drop('e', axis=1)\n",
    "\n",
    "df.to_csv(f'atacadao_{datetime.today().day}-{datetime.today().month}.csv')"
   ]
  },
  {
   "cell_type": "code",
   "execution_count": null,
   "metadata": {},
   "outputs": [],
   "source": []
  }
 ],
 "metadata": {
  "kernelspec": {
   "display_name": "venv",
   "language": "python",
   "name": "python3"
  },
  "language_info": {
   "codemirror_mode": {
    "name": "ipython",
    "version": 3
   },
   "file_extension": ".py",
   "mimetype": "text/x-python",
   "name": "python",
   "nbconvert_exporter": "python",
   "pygments_lexer": "ipython3",
   "version": "3.12.1"
  }
 },
 "nbformat": 4,
 "nbformat_minor": 2
}
